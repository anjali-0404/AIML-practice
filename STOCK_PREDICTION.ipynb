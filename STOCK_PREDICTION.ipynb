{
  "nbformat": 4,
  "nbformat_minor": 0,
  "metadata": {
    "colab": {
      "provenance": [],
      "authorship_tag": "ABX9TyPmfTFCYdRxGnccYmDR2mtN",
      "include_colab_link": true
    },
    "kernelspec": {
      "name": "python3",
      "display_name": "Python 3"
    },
    "language_info": {
      "name": "python"
    }
  },
  "cells": [
    {
      "cell_type": "markdown",
      "metadata": {
        "id": "view-in-github",
        "colab_type": "text"
      },
      "source": [
        "<a href=\"https://colab.research.google.com/github/anjali-0404/AIML-practice/blob/main/STOCK_PREDICTION.ipynb\" target=\"_parent\"><img src=\"https://colab.research.google.com/assets/colab-badge.svg\" alt=\"Open In Colab\"/></a>"
      ]
    },
    {
      "cell_type": "code",
      "execution_count": null,
      "metadata": {
        "id": "YeWQR0ALhQdl"
      },
      "outputs": [],
      "source": [
        "# 💸 STOCK PRICE PREDICTION\n",
        "# 1️⃣ Import required libraries\n",
        "import yfinance as yf\n",
        "import pandas as pd\n",
        "import numpy as np\n",
        "from sklearn.linear_model import LinearRegression\n",
        "import datetime as dt\n",
        "\n",
        "# 2️⃣ Get user input for stock symbol\n",
        "symbol = input(\"Enter Stock Symbol (e.g., AAPL, TCS.NS, INFY.NS): \").upper()\n",
        "\n",
        "# 3️⃣ Download last 1 year of stock data\n",
        "print(f\"\\n📥 Fetching live data for {symbol} ...\")\n",
        "data = yf.download(symbol, period=\"1y\")\n",
        "\n",
        "# Check if data is fetched successfully\n",
        "if data.empty:\n",
        "    print(\"❌ Invalid symbol or no data found. Please try again.\")\n",
        "else:\n",
        "    # 4️⃣ Prepare dataset\n",
        "    data['PrevClose'] = data['Close'].shift(1)\n",
        "    data.dropna(inplace=True)\n",
        "\n",
        "    X = np.array(data['PrevClose']).reshape(-1, 1)\n",
        "    y = np.array(data['Close'])\n",
        "\n",
        "    # 5️⃣ Train a Linear Regression model\n",
        "    model = LinearRegression()\n",
        "    model.fit(X, y)\n",
        "\n",
        "    # 6️⃣ Predict next day’s closing price\n",
        "    last_close = data['Close'].iloc[-1]\n",
        "    next_day_pred = model.predict([[last_close.item()]])[0] # Convert Series to float using .item()\n",
        "\n",
        "    # 7️⃣ Display results\n",
        "    print(\"\\n📊 STOCK PRICE PREDICTION RESULT 📊\")\n",
        "    print(f\"Last Trading Day Close: ₹{last_close:.2f}\")\n",
        "    print(f\"Predicted Next Day Close: ₹{next_day_pred:.2f}\")\n",
        "\n",
        "    # 8️⃣ Optional: Display data summary\n",
        "    print(\"\\n📈 Recent Data Snapshot:\")\n",
        "    print(data.tail())"
      ]
    }
  ]
}