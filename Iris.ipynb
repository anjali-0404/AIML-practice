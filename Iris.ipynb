{
  "nbformat": 4,
  "nbformat_minor": 0,
  "metadata": {
    "colab": {
      "provenance": [],
      "authorship_tag": "ABX9TyM5TTOj2Q/ltqxNIRVDPTcn",
      "include_colab_link": true
    },
    "kernelspec": {
      "name": "python3",
      "display_name": "Python 3"
    },
    "language_info": {
      "name": "python"
    }
  },
  "cells": [
    {
      "cell_type": "markdown",
      "metadata": {
        "id": "view-in-github",
        "colab_type": "text"
      },
      "source": [
        "<a href=\"https://colab.research.google.com/github/anjali-0404/AIML-practice/blob/main/Iris.ipynb\" target=\"_parent\"><img src=\"https://colab.research.google.com/assets/colab-badge.svg\" alt=\"Open In Colab\"/></a>"
      ]
    },
    {
      "cell_type": "code",
      "execution_count": null,
      "metadata": {
        "colab": {
          "base_uri": "https://localhost:8080/"
        },
        "id": "oiok-CWcRYiX",
        "outputId": "b13e212c-15b3-4d55-d8a3-747ec99527e1"
      },
      "outputs": [
        {
          "output_type": "stream",
          "name": "stdout",
          "text": [
            "✅ Model trained successfully!\n",
            "🎯 Accuracy: 100.00%\n",
            "\n",
            "🔹 Enter Sepal and Petal Measurements below:\n",
            "Enter Sepal Length (cm): 14\n",
            "Enter Sepal Width (cm): 15\n",
            "Enter Petal Length (cm): 16\n",
            "Enter Petal Width (cm): 18\n",
            "\n",
            "🌼 Prediction Result 🌼\n",
            "The Iris flower species is likely: **VIRGINICA**\n"
          ]
        }
      ],
      "source": [
        "# 🌸 IRIS FLOWER CLASSIFICATION - USER DEFINED ONE SHOT CODE\n",
        "\n",
        "# 1️⃣ Import required libraries\n",
        "from sklearn.datasets import load_iris\n",
        "from sklearn.model_selection import train_test_split\n",
        "from sklearn.ensemble import RandomForestClassifier\n",
        "from sklearn.metrics import accuracy_score\n",
        "\n",
        "# 2️⃣ Load the Iris dataset\n",
        "iris = load_iris()\n",
        "X, y = iris.data, iris.target\n",
        "species = iris.target_names  # ['setosa', 'versicolor', 'virginica']\n",
        "\n",
        "# 3️⃣ Split the dataset into training and testing parts\n",
        "X_train, X_test, y_train, y_test = train_test_split(\n",
        "    X, y, test_size=0.2, random_state=42\n",
        ")\n",
        "\n",
        "# 4️⃣ Train the model\n",
        "model = RandomForestClassifier(n_estimators=100, random_state=42)\n",
        "model.fit(X_train, y_train)\n",
        "\n",
        "# 5️⃣ Test and evaluate model\n",
        "y_pred = model.predict(X_test)\n",
        "accuracy = accuracy_score(y_test, y_pred)\n",
        "print(f\"✅ Model trained successfully!\")\n",
        "print(f\"🎯 Accuracy: {accuracy*100:.2f}%\\n\")\n",
        "\n",
        "# 6️⃣ Get user input for prediction\n",
        "print(\"🔹 Enter Sepal and Petal Measurements below:\")\n",
        "sepal_length = float(input(\"Enter Sepal Length (cm): \"))\n",
        "sepal_width = float(input(\"Enter Sepal Width (cm): \"))\n",
        "petal_length = float(input(\"Enter Petal Length (cm): \"))\n",
        "petal_width = float(input(\"Enter Petal Width (cm): \"))\n",
        "\n",
        "# 7️⃣ Make prediction based on user input\n",
        "user_input = [[sepal_length, sepal_width, petal_length, petal_width]]\n",
        "predicted_class = model.predict(user_input)[0]\n",
        "predicted_species = species[predicted_class]\n",
        "\n",
        "print(\"\\n🌼 Prediction Result 🌼\")\n",
        "print(f\"The Iris flower species is likely: **{predicted_species.upper()}**\")"
      ]
    }
  ]
}